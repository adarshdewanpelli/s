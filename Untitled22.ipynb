{
 "cells": [
  {
   "cell_type": "code",
   "execution_count": 2,
   "id": "559ebf14",
   "metadata": {},
   "outputs": [],
   "source": [
    "class system:\n",
    "    \n",
    "    def __init__(self):\n",
    "        self.monitor = 22\n",
    "        self.ram = 8\n",
    "        self.hdd = 500\n",
    "        \n",
    "    def system(self):\n",
    "        print(\"my monitor\", self.monitor)\n",
    "        print(\"my ram\", self.ram)\n",
    "        print(\"my hdd\", self.hdd)"
   ]
  },
  {
   "cell_type": "code",
   "execution_count": 3,
   "id": "90723417",
   "metadata": {},
   "outputs": [
    {
     "name": "stdout",
     "output_type": "stream",
     "text": [
      "22\n"
     ]
    }
   ],
   "source": [
    "s = system()\n",
    "print(s.monitor)"
   ]
  },
  {
   "cell_type": "code",
   "execution_count": 4,
   "id": "e4f97148",
   "metadata": {},
   "outputs": [
    {
     "name": "stdout",
     "output_type": "stream",
     "text": [
      "8\n"
     ]
    }
   ],
   "source": [
    "print(s.ram)"
   ]
  },
  {
   "cell_type": "code",
   "execution_count": 5,
   "id": "43179af1",
   "metadata": {},
   "outputs": [
    {
     "name": "stdout",
     "output_type": "stream",
     "text": [
      "22\n"
     ]
    }
   ],
   "source": [
    "print(s.monitor)"
   ]
  },
  {
   "cell_type": "code",
   "execution_count": null,
   "id": "1f3c119f",
   "metadata": {},
   "outputs": [],
   "source": []
  }
 ],
 "metadata": {
  "kernelspec": {
   "display_name": "Python 3 (ipykernel)",
   "language": "python",
   "name": "python3"
  },
  "language_info": {
   "codemirror_mode": {
    "name": "ipython",
    "version": 3
   },
   "file_extension": ".py",
   "mimetype": "text/x-python",
   "name": "python",
   "nbconvert_exporter": "python",
   "pygments_lexer": "ipython3",
   "version": "3.9.13"
  }
 },
 "nbformat": 4,
 "nbformat_minor": 5
}
