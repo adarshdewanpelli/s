{
 "cells": [
  {
   "cell_type": "code",
   "execution_count": 1,
   "id": "aae6105a",
   "metadata": {},
   "outputs": [],
   "source": [
    "class test:\n",
    "    def __init__(self):\n",
    "        self.a=10\n",
    "        self.b=20\n",
    " "
   ]
  },
  {
   "cell_type": "code",
   "execution_count": 2,
   "id": "7658a66f",
   "metadata": {},
   "outputs": [],
   "source": [
    "t1=test()\n",
    "t1.a=444\n",
    "t2=test()\n",
    "t2.b=555"
   ]
  },
  {
   "cell_type": "code",
   "execution_count": 3,
   "id": "9886f348",
   "metadata": {},
   "outputs": [
    {
     "name": "stdout",
     "output_type": "stream",
     "text": [
      "444 10\n"
     ]
    }
   ],
   "source": [
    "print(t1.a,t2.a)"
   ]
  },
  {
   "cell_type": "code",
   "execution_count": null,
   "id": "ed951f89",
   "metadata": {},
   "outputs": [],
   "source": []
  }
 ],
 "metadata": {
  "kernelspec": {
   "display_name": "Python 3 (ipykernel)",
   "language": "python",
   "name": "python3"
  },
  "language_info": {
   "codemirror_mode": {
    "name": "ipython",
    "version": 3
   },
   "file_extension": ".py",
   "mimetype": "text/x-python",
   "name": "python",
   "nbconvert_exporter": "python",
   "pygments_lexer": "ipython3",
   "version": "3.9.13"
  }
 },
 "nbformat": 4,
 "nbformat_minor": 5
}
