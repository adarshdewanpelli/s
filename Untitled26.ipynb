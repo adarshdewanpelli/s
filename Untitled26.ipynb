{
 "cells": [
  {
   "cell_type": "code",
   "execution_count": 25,
   "id": "c4ded3a0",
   "metadata": {},
   "outputs": [
    {
     "ename": "SyntaxError",
     "evalue": "invalid syntax (3904964936.py, line 25)",
     "output_type": "error",
     "traceback": [
      "\u001b[1;36m  File \u001b[1;32m\"C:\\Users\\adars\\AppData\\Local\\Temp\\ipykernel_10892\\3904964936.py\"\u001b[1;36m, line \u001b[1;32m25\u001b[0m\n\u001b[1;33m    elif option=='w':\u001b[0m\n\u001b[1;37m    ^\u001b[0m\n\u001b[1;31mSyntaxError\u001b[0m\u001b[1;31m:\u001b[0m invalid syntax\n"
     ]
    }
   ],
   "source": [
    "import sys\n",
    "class customer:\n",
    "    bankname='hellbank'\n",
    "    def __init__(self, name, balance=10):\n",
    "        self.name=name\n",
    "        self.balance=balance\n",
    "    \n",
    "        \n",
    "    def deposit(self, amount):\n",
    "        self.balance=self.balance+amount\n",
    "        print('balance is',self.balance)\n",
    "    def witdraw(self, amount):     \n",
    "        if amount > self.balance :\n",
    "            print(\"you dont have funds\")\n",
    "        else :\n",
    "            print('yu have'<self.balance-amount)\n",
    "print('wlcometobank',customer.bankname)\n",
    "name=input('enter your name')\n",
    "c=customer(name)\n",
    "print('d', 'w', 'e')\n",
    "option=input (\"choose your option\")\n",
    "if option=='d':\n",
    "    amount=input ('enter aount to deposit')\n",
    "    c.deposit(amount)\n",
    "    elif option=='w':\n",
    "        amount=input ('enter the amount to depost')\n",
    "        c.witdraw(amount)\n",
    "    elif option=='e':\n",
    "        print('thanks for banking')\n",
    "        sys.exit()\n",
    "    else:\n",
    "        print('invalid option')"
   ]
  },
  {
   "cell_type": "code",
   "execution_count": null,
   "id": "d1f97889",
   "metadata": {},
   "outputs": [],
   "source": []
  }
 ],
 "metadata": {
  "kernelspec": {
   "display_name": "Python 3 (ipykernel)",
   "language": "python",
   "name": "python3"
  },
  "language_info": {
   "codemirror_mode": {
    "name": "ipython",
    "version": 3
   },
   "file_extension": ".py",
   "mimetype": "text/x-python",
   "name": "python",
   "nbconvert_exporter": "python",
   "pygments_lexer": "ipython3",
   "version": "3.9.13"
  }
 },
 "nbformat": 4,
 "nbformat_minor": 5
}
