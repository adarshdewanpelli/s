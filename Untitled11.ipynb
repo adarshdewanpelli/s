{
 "cells": [
  {
   "cell_type": "code",
   "execution_count": null,
   "id": "5c6d0715",
   "metadata": {},
   "outputs": [
    {
     "name": "stdout",
     "output_type": "stream",
     "text": [
      "name of customerhek\n",
      "d w e\n",
      "enter your optiond\n",
      "please enter the amount to deposit400\n",
      "balanceis 400.0\n",
      "d w e\n",
      "enter your optionw\n",
      "pelse enter the amount300\n",
      "d w e\n"
     ]
    }
   ],
   "source": [
    "import sys\n",
    "class costumer:\n",
    "    def __init__(self, name, balance=0):\n",
    "        self.name=name\n",
    "        self.balance=balance\n",
    "    \n",
    "    def deposit(self,amount):\n",
    "        self.balance=self.balance+amount\n",
    "        print('balanceis',self.balance)\n",
    "    def withdraw(self,amount):\n",
    "        if amount > self.balance:\n",
    "            print('insufficient funds')\n",
    "            sys.exit()\n",
    "            self.balance=self.balance-amount\n",
    "            print('the balanceis',self.balance)\n",
    "name=input('name of customer')         \n",
    "c=costumer(name)\n",
    "while True:\n",
    "    print('d', 'w', 'e')\n",
    "    option=input('enter your option')\n",
    "    if option=='d':\n",
    "        amount=float(input('please enter the amount to deposit'))\n",
    "        c.deposit(amount)\n",
    "    elif option=='w':\n",
    "        amount=float(input('pelse enter the amount'))\n",
    "        c.withdraw(amount)\n",
    "    elif option=='e':\n",
    "        print('thanks for banking')\n",
    "        sys.exit()\n",
    "    else:\n",
    "        print(\"invalid option\")"
   ]
  },
  {
   "cell_type": "code",
   "execution_count": null,
   "id": "d86c977a",
   "metadata": {},
   "outputs": [],
   "source": []
  },
  {
   "cell_type": "code",
   "execution_count": null,
   "id": "4c71660e",
   "metadata": {},
   "outputs": [],
   "source": []
  }
 ],
 "metadata": {
  "kernelspec": {
   "display_name": "Python 3 (ipykernel)",
   "language": "python",
   "name": "python3"
  },
  "language_info": {
   "codemirror_mode": {
    "name": "ipython",
    "version": 3
   },
   "file_extension": ".py",
   "mimetype": "text/x-python",
   "name": "python",
   "nbconvert_exporter": "python",
   "pygments_lexer": "ipython3",
   "version": "3.9.13"
  }
 },
 "nbformat": 4,
 "nbformat_minor": 5
}
