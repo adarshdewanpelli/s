{
 "cells": [
  {
   "cell_type": "code",
   "execution_count": 12,
   "id": "c4ded3a0",
   "metadata": {},
   "outputs": [
    {
     "name": "stdout",
     "output_type": "stream",
     "text": [
      "wlcometobank:  hellbank\n",
      "enter your name: dhe\n",
      "d w e\n",
      "choose your option: d\n"
     ]
    },
    {
     "ename": "ValueError",
     "evalue": "could not convert string to float: 'd'",
     "output_type": "error",
     "traceback": [
      "\u001b[1;31m---------------------------------------------------------------------------\u001b[0m",
      "\u001b[1;31mValueError\u001b[0m                                Traceback (most recent call last)",
      "\u001b[1;32m~\\AppData\\Local\\Temp\\ipykernel_10340\\4144768210.py\u001b[0m in \u001b[0;36m<module>\u001b[1;34m\u001b[0m\n\u001b[0;32m     18\u001b[0m \u001b[1;32mwhile\u001b[0m \u001b[1;32mTrue\u001b[0m\u001b[1;33m:\u001b[0m\u001b[1;33m\u001b[0m\u001b[1;33m\u001b[0m\u001b[0m\n\u001b[0;32m     19\u001b[0m     \u001b[0mprint\u001b[0m\u001b[1;33m(\u001b[0m\u001b[1;34m'd'\u001b[0m\u001b[1;33m,\u001b[0m \u001b[1;34m'w'\u001b[0m\u001b[1;33m,\u001b[0m \u001b[1;34m'e'\u001b[0m\u001b[1;33m)\u001b[0m\u001b[1;33m\u001b[0m\u001b[1;33m\u001b[0m\u001b[0m\n\u001b[1;32m---> 20\u001b[1;33m     \u001b[0moption\u001b[0m\u001b[1;33m=\u001b[0m\u001b[0mfloat\u001b[0m\u001b[1;33m(\u001b[0m\u001b[0minput\u001b[0m\u001b[1;33m(\u001b[0m\u001b[1;34m'choose your option: '\u001b[0m\u001b[1;33m)\u001b[0m\u001b[1;33m)\u001b[0m\u001b[1;33m\u001b[0m\u001b[1;33m\u001b[0m\u001b[0m\n\u001b[0m\u001b[0;32m     21\u001b[0m     \u001b[1;32mif\u001b[0m \u001b[0moption\u001b[0m \u001b[1;33m==\u001b[0m\u001b[1;34m'd'\u001b[0m\u001b[1;33m:\u001b[0m\u001b[1;33m\u001b[0m\u001b[1;33m\u001b[0m\u001b[0m\n\u001b[0;32m     22\u001b[0m         \u001b[0mamount\u001b[0m\u001b[1;33m=\u001b[0m\u001b[0mint\u001b[0m\u001b[1;33m(\u001b[0m\u001b[0minput\u001b[0m\u001b[1;33m(\u001b[0m\u001b[1;34m'enter aount to deposit: '\u001b[0m\u001b[1;33m)\u001b[0m\u001b[1;33m)\u001b[0m\u001b[1;33m\u001b[0m\u001b[1;33m\u001b[0m\u001b[0m\n",
      "\u001b[1;31mValueError\u001b[0m: could not convert string to float: 'd'"
     ]
    }
   ],
   "source": [
    "import sys\n",
    "class customer:\n",
    "    bankname='hellbank'\n",
    "    def __init__(self, name, balance=10):\n",
    "        self.name=name\n",
    "        self.balance=balance\n",
    "    def deposit(self, amount):\n",
    "        self.balance=self.balance+amount\n",
    "        print('balance is',self.balance)\n",
    "    def witdraw(self, amount):\n",
    "        if amount > balance :\n",
    "            print(\"you dont have funds\")\n",
    "            sys.exit()\n",
    "            print('yu have',balance-amount)\n",
    "print('wlcometobank: ',customer.bankname)\n",
    "name=input('enter your name: ')\n",
    "c=customer(name)\n",
    "while True:\n",
    "    print('d', 'w', 'e')\n",
    "    option=float(input('choose your option: '))\n",
    "    if option =='d':\n",
    "        amount=int(input('enter aount to deposit: '))\n",
    "        c.deposit(amount)\n",
    "    elif option =='w':\n",
    "        amount=int(input ('enter the amount to depost:'))\n",
    "        c.witdraw(amount)\n",
    "    elif option =='e':\n",
    "        print('thanks for banking')\n",
    "        sys.exit()\n",
    "    else:\n",
    "        print('invalid option')"
   ]
  },
  {
   "cell_type": "code",
   "execution_count": null,
   "id": "d1f97889",
   "metadata": {},
   "outputs": [],
   "source": [
    "hellbank\n"
   ]
  },
  {
   "cell_type": "code",
   "execution_count": null,
   "id": "83beb2d9",
   "metadata": {},
   "outputs": [],
   "source": [
    "class dictonary:\n",
    "    def __init__(self, l):\n",
    "        self.l=l\n",
    "    def gtvalues(self, l):\n",
    "        if type(self.l)==dict:\n",
    "            for i in self.l:\n",
    "                print(i)\n",
    "        else:\n",
    "            print(\"the entered value is not dict\")\n",
    "        \n",
    "                "
   ]
  },
  {
   "cell_type": "code",
   "execution_count": null,
   "id": "6bbe062a",
   "metadata": {},
   "outputs": [],
   "source": [
    "c = dictonary{\"d\":[2,3,4], \"c\":\"adar\", \"f\":40}\n",
    "c.gtvalues()"
   ]
  },
  {
   "cell_type": "markdown",
   "id": "6ee7a892",
   "metadata": {},
   "source": []
  },
  {
   "cell_type": "code",
   "execution_count": null,
   "id": "6916486a",
   "metadata": {},
   "outputs": [],
   "source": []
  }
 ],
 "metadata": {
  "kernelspec": {
   "display_name": "Python 3 (ipykernel)",
   "language": "python",
   "name": "python3"
  },
  "language_info": {
   "codemirror_mode": {
    "name": "ipython",
    "version": 3
   },
   "file_extension": ".py",
   "mimetype": "text/x-python",
   "name": "python",
   "nbconvert_exporter": "python",
   "pygments_lexer": "ipython3",
   "version": "3.9.13"
  }
 },
 "nbformat": 4,
 "nbformat_minor": 5
}
