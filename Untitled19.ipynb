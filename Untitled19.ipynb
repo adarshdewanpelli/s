{
 "cells": [
  {
   "cell_type": "code",
   "execution_count": null,
   "id": "5efd199a",
   "metadata": {},
   "outputs": [
    {
     "name": "stdout",
     "output_type": "stream",
     "text": [
      "wlcometobank:  hellbank\n",
      "enter your name: hel\n",
      "d w e\n",
      "choose your option: w\n",
      "enter the amount to withdraw: 200\n",
      "you dont have funds\n",
      "d w e\n"
     ]
    }
   ],
   "source": [
    "import sys\n",
    "class customer:\n",
    "    bankname='hellbank'\n",
    "    def __init__(self, name, balance=10):\n",
    "        self.name=name\n",
    "        self.balance=balance\n",
    "    def deposit(self, amount):\n",
    "        self.balance=self.balance+amount\n",
    "        print('balance is',self.balance)\n",
    "    def witdraw(self, amount):     \n",
    "        if amount > self.balance :\n",
    "            print(\"you dont have funds\")\n",
    "        else :\n",
    "            print('yu have',self.balance-amount)\n",
    "print('wlcometobank: ',customer.bankname)\n",
    "name=input('enter your name: ')\n",
    "c=customer(name)\n",
    "while True:\n",
    "    print('d', 'w', 'e')\n",
    "    option=input (\"choose your option: \")\n",
    "    if option =='d':\n",
    "        amount=int(input ('enter aount to deposit: '))\n",
    "        c.deposit(amount)\n",
    "    elif option =='w':\n",
    "        amount=int(input ('enter the amount to withdraw: '))\n",
    "        c.witdraw(amount)\n",
    "    elif option =='e':\n",
    "        print('thanks for banking')\n",
    "        sys.exit()\n",
    "    else:\n",
    "        print('invalid option')"
   ]
  },
  {
   "cell_type": "code",
   "execution_count": null,
   "id": "6781d62a",
   "metadata": {},
   "outputs": [],
   "source": []
  }
 ],
 "metadata": {
  "kernelspec": {
   "display_name": "Python 3 (ipykernel)",
   "language": "python",
   "name": "python3"
  },
  "language_info": {
   "codemirror_mode": {
    "name": "ipython",
    "version": 3
   },
   "file_extension": ".py",
   "mimetype": "text/x-python",
   "name": "python",
   "nbconvert_exporter": "python",
   "pygments_lexer": "ipython3",
   "version": "3.9.13"
  }
 },
 "nbformat": 4,
 "nbformat_minor": 5
}
